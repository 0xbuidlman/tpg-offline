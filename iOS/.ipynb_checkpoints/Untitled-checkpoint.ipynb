{
 "cells": [
  {
   "cell_type": "code",
   "execution_count": null,
   "metadata": {
    "collapsed": false
   },
   "outputs": [],
   "source": [
    "import requests, json\n",
    "from tqdm import tqdm\n",
    "r = requests.get(\"https://raw.githubusercontent.com/RemyDCF/tpg-offline/master/iOS/arrets.json\").json()\n",
    "for x in tqdm(r[\"stops\"]):                                             \n",
    "    s = requests.get(\"http://prod.ivtr-od.tpg.ch/v1/GetNextDepartures.json?key=d95be980-0830-11e5-a039-0002a5d5c51b&stopCode=\" + x[\"stopCode\"]).json()\n",
    "    x[\"connections\"] = []\n",
    "    print(x[\"stopCode\"])\n",
    "    for p in s[\"stop\"][\"connections\"]:\n",
    "        if p[\"lineCode\"] in x[\"connections\"] == False:\n",
    "            x[\"connections\"].append(p[\"lineCode\"]) \n",
    "print(r)"
   ]
  },
  {
   "cell_type": "code",
   "execution_count": null,
   "metadata": {
    "collapsed": true
   },
   "outputs": [],
   "source": []
  },
  {
   "cell_type": "code",
   "execution_count": null,
   "metadata": {
    "collapsed": true
   },
   "outputs": [],
   "source": []
  },
  {
   "cell_type": "code",
   "execution_count": null,
   "metadata": {
    "collapsed": true
   },
   "outputs": [],
   "source": []
  }
 ],
 "metadata": {
  "kernelspec": {
   "display_name": "Python 3",
   "language": "python",
   "name": "python3"
  },
  "language_info": {
   "codemirror_mode": {
    "name": "ipython",
    "version": 3
   },
   "file_extension": ".py",
   "mimetype": "text/x-python",
   "name": "python",
   "nbconvert_exporter": "python",
   "pygments_lexer": "ipython3",
   "version": "3.5.0"
  }
 },
 "nbformat": 4,
 "nbformat_minor": 0
}
